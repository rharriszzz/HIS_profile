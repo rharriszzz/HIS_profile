{
 "cells": [
  {
   "cell_type": "code",
   "execution_count": null,
   "metadata": {},
   "outputs": [],
   "source": [
    "import sys\n",
    "import numpy as np\n",
    "from scipy.integrate import odeint\n",
    "\n",
    "def G(u, v, f, k):\n",
    "    return f * (1 - u) - u*v**2\n",
    "\n",
    "def H(u, v, f, k):\n",
    "    return -(f + k) * v + u*v**2\n",
    "\n",
    "def grayscott1d(y, t, f, k, Du, Dv, dx):\n",
    "    \"\"\"Differential equations for the 1D Gray-Scott equations.                                                                              \n",
    "    The ODEs are derived using the method of lines.                                                                                         \n",
    "    \"\"\"\n",
    "    # The vectors u and v are interleaved in y.  We define                                                                                  \n",
    "    # views of u and v by slicing y.                                                                                                        \n",
    "    u = y[::2]\n",
    "    v = y[1::2]\n",
    "\n",
    "    # dydt is the return value of this function.                                                                                            \n",
    "    dydt = np.empty_like(y)\n",
    "\n",
    "    # Just like u and v are views of the interleaved vectors                                                                                \n",
    "    # in y, dudt and dvdt are views of the interleaved output                                                                               \n",
    "    # vectors in dydt.                                                                                                                      \n",
    "    dudt = dydt[::2]\n",
    "    dvdt = dydt[1::2]\n",
    "\n",
    "    # Compute du/dt and dv/dt.  The end points and the interior points                                                                      \n",
    "    # are handled separately.                                                                                                               \n",
    "    dudt[0]    = G(u[0],    v[0],    f, k) + Du * (-2.0*u[0] + 2.0*u[1]) / dx**2\n",
    "    dudt[1:-1] = G(u[1:-1], v[1:-1], f, k) + Du * np.diff(u,2) / dx**2\n",
    "    dudt[-1]   = G(u[-1],   v[-1],   f, k) + Du * (- 2.0*u[-1] + 2.0*u[-2]) / dx**2\n",
    "    dvdt[0]    = H(u[0],    v[0],    f, k) + Dv * (-2.0*v[0] + 2.0*v[1]) / dx**2\n",
    "    dvdt[1:-1] = H(u[1:-1], v[1:-1], f, k) + Dv * np.diff(v,2) / dx**2\n",
    "    dvdt[-1]   = H(u[-1],   v[-1],   f, k) + Dv * (-2.0*v[-1] + 2.0*v[-2]) / dx**2\n",
    "\n",
    "    return dydt\n",
    "\n",
    "def pyan_38_1_test():\n",
    "    #n = 2500                                                                                                                               \n",
    "    n = 1000\n",
    "    y0 = np.random.randn(n)\n",
    "    t = np.linspace(0, 50, 11)\n",
    "    f = 0.024\n",
    "    k = 0.055\n",
    "    Du = 0.01\n",
    "    Dv = 0.005\n",
    "    dx = 0.025\n",
    "    sola = odeint(grayscott1d, y0, t, args=(f, k, Du, Dv, dx))\n",
    "    #solb = odeint(grayscott1d, y0, t, args=(f, k, Du, Dv, dx), ml=2, mu=2)        "
   ]
  },
  {
   "cell_type": "code",
   "execution_count": null,
   "metadata": {},
   "outputs": [],
   "source": [
    "from bokeh.io import output_notebook, show\n",
    "from bokeh.resources import Resources\n",
    "output_notebook()"
   ]
  },
  {
   "cell_type": "code",
   "execution_count": null,
   "metadata": {},
   "outputs": [],
   "source": [
    "from his_profile import run_test\n",
    "\n",
    "tree_filename = run_test('scipy_odeint_grayscott1d_non-banded', pyan_38_1_test)"
   ]
  },
  {
   "cell_type": "code",
   "execution_count": null,
   "metadata": {},
   "outputs": [],
   "source": [
    "from his_profile import print_tree\n",
    "\n",
    "print_tree(tree_filename)"
   ]
  },
  {
   "cell_type": "code",
   "execution_count": null,
   "metadata": {},
   "outputs": [],
   "source": [
    "from his_profile import show_tree\n",
    "\n",
    "show_tree(tree_filename)"
   ]
  },
  {
   "cell_type": "code",
   "execution_count": null,
   "metadata": {},
   "outputs": [],
   "source": []
  }
 ],
 "metadata": {
  "kernelspec": {
   "display_name": "Python 3",
   "language": "python",
   "name": "python3"
  },
  "language_info": {
   "codemirror_mode": {
    "name": "ipython",
    "version": 3
   },
   "file_extension": ".py",
   "mimetype": "text/x-python",
   "name": "python",
   "nbconvert_exporter": "python",
   "pygments_lexer": "ipython3",
   "version": "3.7.0"
  }
 },
 "nbformat": 4,
 "nbformat_minor": 2
}
